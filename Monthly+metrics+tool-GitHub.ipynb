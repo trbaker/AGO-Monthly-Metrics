{
 "cells": [
  {
   "cell_type": "markdown",
   "metadata": {},
   "source": [
    "# AGO Metrics\n",
    "This script reads a col of objectIds froma  Google Sheet, checks the numView of the object in AGO and write the count back to the spreadsheet.  It is run manually to determine views across a designatived collections. An AGO login is only needed in the script if objects are not shared publicly."
   ]
  },
  {
   "cell_type": "code",
   "execution_count": 16,
   "metadata": {},
   "outputs": [
    {
     "name": "stdout",
     "output_type": "stream",
     "text": [
      "ok\n"
     ]
    }
   ],
   "source": [
    "# BEFORE RUNNING METRIS:\n",
    "# 1. count rows of materials and add 1. Update five lines down.  \n",
    "# All else is now automated (including col discovery)\n",
    "\n",
    "\n",
    "# monthly variable defintion\n",
    "# set number of recrods if materials list grows, including new maps\n",
    "targetrow = 517\n",
    "\n",
    "# import statement \n",
    "from arcgis.gis import GIS\n",
    "from IPython.display import display\n",
    "import pandas as pd\n",
    "# required Google imports or 3rd party libs for Sheets\n",
    "import gspread\n",
    "from oauth2client.service_account import ServiceAccountCredentials\n",
    "from datetime import date\n",
    "\n",
    "# use creds to create a client to interact with the Google Drive API\n",
    "scope = ['https://spreadsheets.google.com/feeds']\n",
    "creds = ServiceAccountCredentials.from_json_keyfile_name('client_secret.json', scope)\n",
    "client = gspread.authorize(creds)\n",
    " \n",
    "# Find a workbook by name and open the first sheet\n",
    "# Make sure you use the right name here.\n",
    "try:\n",
    "    sheet = client.open(\"example_metrics_Tracking\").sheet1\n",
    "except Exception as e:\n",
    "    print(e) \n",
    "\n",
    "#define AGO variables\n",
    "# change to your organization name and add user/pw if needed\n",
    "gis = GIS(\"https://my_organization.maps.arcgis.com\", '', '')\n",
    "print(\"ok\")\n",
    "\n",
    "\n",
    "\n"
   ]
  },
  {
   "cell_type": "code",
   "execution_count": 17,
   "metadata": {},
   "outputs": [
    {
     "name": "stdout",
     "output_type": "stream",
     "text": [
      "Cell empty: 6  Ready to proceed.\n",
      "Header written.\n"
     ]
    }
   ],
   "source": [
    "# try to find first empty column for use below and write date to col header\n",
    "\n",
    "for j in range(4,100):\n",
    "    # create a loop to scan the possible columns\n",
    "    # 4 is used in loop to start scanning at column 4\n",
    "    #adjust this row count to avoid static content you may have in the first x cols\n",
    "    findEmptyCol=sheet.cell(3, j).value \n",
    "    # 3 is used above to use 3rd row for scanning\n",
    "    # adjust this row count to drop down from your header\n",
    "    if len(findEmptyCol) ==0:\n",
    "        print ('Cell empty:', j, ' Ready to proceed.')\n",
    "        break\n",
    "\n",
    "# output date header\n",
    "today = date.today()\n",
    "sheet.update_cell(1,j,today)\n",
    "print('Header written.')"
   ]
  },
  {
   "cell_type": "code",
   "execution_count": 19,
   "metadata": {},
   "outputs": [
    {
     "name": "stdout",
     "output_type": "stream",
     "text": [
      "ok. complete\n"
     ]
    }
   ],
   "source": [
    "\n",
    "for i in range(2,targetrow):\n",
    "    #Read objectID at incremented cell\n",
    "    currObject=sheet.cell(i, 4).value \n",
    "    #print(currObject)\n",
    "    if len(currObject) >5:\n",
    "        #go fetch AGO numview value for objectid\n",
    "        my_item = gis.content.get(currObject.strip()).numViews\n",
    "        #my_item  #outputs numviews to screen\n",
    "        #Write views to specified cell\n",
    "        sheet.update_cell(i,j, my_item)\n",
    "        #Repeat for all rows\n",
    "\n",
    "print('ok. complete')\n"
   ]
  },
  {
   "cell_type": "code",
   "execution_count": null,
   "metadata": {
    "collapsed": true
   },
   "outputs": [],
   "source": []
  }
 ],
 "metadata": {
  "kernelspec": {
   "display_name": "Python 3",
   "language": "python",
   "name": "python3"
  },
  "language_info": {
   "codemirror_mode": {
    "name": "ipython",
    "version": 3
   },
   "file_extension": ".py",
   "mimetype": "text/x-python",
   "name": "python",
   "nbconvert_exporter": "python",
   "pygments_lexer": "ipython3",
   "version": "3.6.1"
  }
 },
 "nbformat": 4,
 "nbformat_minor": 2
}
